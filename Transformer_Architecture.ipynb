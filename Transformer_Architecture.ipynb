{
  "cells": [
    {
      "cell_type": "markdown",
      "metadata": {
        "id": "3rguXzm47UPd"
      },
      "source": [
        "As for *config* we will use AutoConfig module from transformers which will import default configuration of pretrained model."
      ]
    },
    {
      "cell_type": "code",
      "execution_count": 2,
      "metadata": {
        "id": "7KJy0Ykj7hM9",
        "colab": {
          "base_uri": "https://localhost:8080/",
          "height": 177,
          "referenced_widgets": [
            "da3478a561704d4bbe8c0802ff5c3fb6",
            "225cc380d7414280b443df6bad5705c3",
            "477778c65eed418996d95a106a1a5538",
            "bca2ffd911fb4a39a4128d828dc462ec",
            "4337f06b47c542148dd892013a031549",
            "302fc9c3e9b74dfcabb8ea4225b96e4b",
            "a1bd9f6af70e4ed5956ced465761c428",
            "7c63d4ac75da438897aa84abb6c88930",
            "aeb648d12b7e439cbd0735c2f6bbbbdb",
            "30f0edf395264a608f7bbdef289d188d",
            "4e34853bdaff45f4b61d86f1d48e3fc8",
            "58ffa781bcf2482099ae89344e7d4db2",
            "d188e3ddde8e47d58ad9a63f40c131ed",
            "0d0bec8e3f904c0ab033f7336d027580",
            "f9b9697c9cad4f0ca36eac5d4ddddee0",
            "7bdcb8b869694454b47a30db808f5e30",
            "5e25b627edc8455595870bf12bd3bdff",
            "f1e50ed26f3b4b18a5123b683023a30c",
            "3db46a2eb6594e8895ca1d084d481cbd",
            "f5a58b608c9042bd9752e82c0ca750c6",
            "b1b7a8847d4043129f996d75844defd4",
            "e6c7af30969a4076a475a4cc4536f7cf",
            "539317f8cb6e441a92e8826646f6ad1f",
            "dc9caf1c8dd04567b52c31709a894c34",
            "b0640fb1e2af4e72bfd458d495d56941",
            "1ce42bbd10a6413e9f2f904045371c55",
            "a0c134eaa3f14334b3dfe68cd0c521f9",
            "b1a4108f13b24546813d85323364318a",
            "6bb4fc0594074078a693966334beba93",
            "85be8409ea37456889f35790a0775cae",
            "953d72cdc8a14243abbd068426027bbc",
            "b4b0c78c62294c65baf8bc09768d7a80",
            "5f833a137626432e8fbbbb7b55120b2b",
            "a66fc15484b9440bb699fc61972b5ff5",
            "c054679c21ad47bcb200f9fb0e904c1e",
            "41488d84b6a9458aaf303d6e11fcf329",
            "3d37661eb2134c509c68946120905670",
            "3ec84066acf745d1b7372ba07b993906",
            "ceaf722a55ab4f70af08fa1533e90b67",
            "9af2369a34844e8f89557eed2bbba8c8",
            "317ebe3a5f174f8186af8ae7baecf4ee",
            "f78796059a2942bdb2b6ec8c521812a4",
            "d6f63c406eb44a5984ba9adcacb93b37",
            "09dae30c9f324e8a8708ec101a425781",
            "dd1698e97feb47cbb2bfa06e7b30d448",
            "2c04169b92b04bf1b623223dc1276c79",
            "b7f2d08c06b541f2808a1adac05267f5",
            "0587a1aad3474d2cb08ba49e5f0309a7",
            "dffa73615fae48c0ab79317a98e94cf0",
            "f8cd92ce85a54ce7a57662bc96c170ab",
            "3e122fd0cfe44522bcc1970a9918d510",
            "d2c077128566493f9eb4eb42f816ecd7",
            "b259c38f17794ce797dab28b21a7816f",
            "3ca588354f7e4441926b33b22220f4b7",
            "a1d7be65cb964b85b5500f087a9646dc"
          ]
        },
        "outputId": "ead069e0-2142-47f6-9f3b-83f6726b08a0"
      },
      "outputs": [
        {
          "output_type": "display_data",
          "data": {
            "text/plain": [
              "tokenizer_config.json:   0%|          | 0.00/28.0 [00:00<?, ?B/s]"
            ],
            "application/vnd.jupyter.widget-view+json": {
              "version_major": 2,
              "version_minor": 0,
              "model_id": "da3478a561704d4bbe8c0802ff5c3fb6"
            }
          },
          "metadata": {}
        },
        {
          "output_type": "display_data",
          "data": {
            "text/plain": [
              "config.json:   0%|          | 0.00/570 [00:00<?, ?B/s]"
            ],
            "application/vnd.jupyter.widget-view+json": {
              "version_major": 2,
              "version_minor": 0,
              "model_id": "58ffa781bcf2482099ae89344e7d4db2"
            }
          },
          "metadata": {}
        },
        {
          "output_type": "display_data",
          "data": {
            "text/plain": [
              "vocab.txt:   0%|          | 0.00/232k [00:00<?, ?B/s]"
            ],
            "application/vnd.jupyter.widget-view+json": {
              "version_major": 2,
              "version_minor": 0,
              "model_id": "539317f8cb6e441a92e8826646f6ad1f"
            }
          },
          "metadata": {}
        },
        {
          "output_type": "display_data",
          "data": {
            "text/plain": [
              "tokenizer.json:   0%|          | 0.00/466k [00:00<?, ?B/s]"
            ],
            "application/vnd.jupyter.widget-view+json": {
              "version_major": 2,
              "version_minor": 0,
              "model_id": "a66fc15484b9440bb699fc61972b5ff5"
            }
          },
          "metadata": {}
        },
        {
          "output_type": "display_data",
          "data": {
            "text/plain": [
              "model.safetensors:   0%|          | 0.00/440M [00:00<?, ?B/s]"
            ],
            "application/vnd.jupyter.widget-view+json": {
              "version_major": 2,
              "version_minor": 0,
              "model_id": "dd1698e97feb47cbb2bfa06e7b30d448"
            }
          },
          "metadata": {}
        }
      ],
      "source": [
        "#import pretrained model first\n",
        "\n",
        "from transformers import AutoTokenizer,BertModel,AutoConfig\n",
        "\n",
        "model_ckpt = \"bert-base-uncased\"\n",
        "tokenizer = AutoTokenizer.from_pretrained(model_ckpt)\n",
        "model = BertModel.from_pretrained(model_ckpt)\n",
        "text = \"time flies like an arrow\""
      ]
    },
    {
      "cell_type": "markdown",
      "metadata": {
        "id": "kOGhtF8g_Jap"
      },
      "source": [
        "- *torch* is the top-level package in PyTorch. It provides functionality for creating and manipulating tensors, which are the fundamental building blocks in PyTorch. Tensors are multi-dimensional arrays, similar to NumPy arrays, and they can be used to represent data for various mathematical operations.\n",
        "The torch package includes tensor operations, mathematical functions, and other utilities for working with numerical data.\n",
        "\n",
        "- *torch.nn* (neural networks) is a module within PyTorch that provides tools for building and training neural networks. It includes pre-defined layers, loss functions, optimization algorithms, and other components necessary for constructing and training neural network models."
      ]
    },
    {
      "cell_type": "code",
      "execution_count": 3,
      "metadata": {
        "id": "J1P4_G7N9HZn"
      },
      "outputs": [],
      "source": [
        "\n",
        "import torch.nn as nn\n",
        "config = AutoConfig.from_pretrained(model_ckpt)\n",
        "inputs = tokenizer(text,return_tensors = \"pt\",add_special_tokens = False)\n",
        "embedding_layer = nn.Embedding(config.vocab_size, config.hidden_size)"
      ]
    },
    {
      "cell_type": "code",
      "execution_count": 4,
      "metadata": {
        "colab": {
          "base_uri": "https://localhost:8080/"
        },
        "id": "3zmpfe3mE0tN",
        "outputId": "e007861e-780c-4c4f-d7bf-561cd7ffeaf3"
      },
      "outputs": [
        {
          "output_type": "execute_result",
          "data": {
            "text/plain": [
              "Embedding(30522, 768)"
            ]
          },
          "metadata": {},
          "execution_count": 4
        }
      ],
      "source": [
        "embedding_layer"
      ]
    },
    {
      "cell_type": "code",
      "execution_count": 5,
      "metadata": {
        "colab": {
          "base_uri": "https://localhost:8080/"
        },
        "id": "6EbsFiFSEI0p",
        "outputId": "6ee1d188-dcaa-43fe-87e7-4e29a6ca3932"
      },
      "outputs": [
        {
          "output_type": "execute_result",
          "data": {
            "text/plain": [
              "{'input_ids': tensor([[ 2051, 10029,  2066,  2019,  8612]]), 'token_type_ids': tensor([[0, 0, 0, 0, 0]]), 'attention_mask': tensor([[1, 1, 1, 1, 1]])}"
            ]
          },
          "metadata": {},
          "execution_count": 5
        }
      ],
      "source": [
        "inputs"
      ]
    },
    {
      "cell_type": "markdown",
      "metadata": {
        "id": "ghleoQcMDSVB"
      },
      "source": [
        "Embedding Layer receives\n",
        "- hidden_state size is a matrix lenght of one token with respect to context or other words.\n",
        "- vocab size is number unique words in vocabulary.\n",
        "As we are using pretrained model we are import data has been trained on by AutoConfig."
      ]
    },
    {
      "cell_type": "code",
      "execution_count": 6,
      "metadata": {
        "colab": {
          "base_uri": "https://localhost:8080/"
        },
        "id": "P2jO9vuYDR03",
        "outputId": "b8eebcdd-998f-44e0-9cf1-1a5c70143793"
      },
      "outputs": [
        {
          "output_type": "execute_result",
          "data": {
            "text/plain": [
              "torch.Size([1, 5, 768])"
            ]
          },
          "metadata": {},
          "execution_count": 6
        }
      ],
      "source": [
        "input_emb = embedding_layer(inputs.input_ids) # we only required tokens for the model\n",
        "input_emb.size()"
      ]
    },
    {
      "cell_type": "code",
      "execution_count": 7,
      "metadata": {
        "colab": {
          "base_uri": "https://localhost:8080/"
        },
        "id": "zja8fPBL-KPG",
        "outputId": "90837aa3-b737-45ce-cca3-911f5a31f30f"
      },
      "outputs": [
        {
          "output_type": "execute_result",
          "data": {
            "text/plain": [
              "BertConfig {\n",
              "  \"_name_or_path\": \"bert-base-uncased\",\n",
              "  \"architectures\": [\n",
              "    \"BertForMaskedLM\"\n",
              "  ],\n",
              "  \"attention_probs_dropout_prob\": 0.1,\n",
              "  \"classifier_dropout\": null,\n",
              "  \"gradient_checkpointing\": false,\n",
              "  \"hidden_act\": \"gelu\",\n",
              "  \"hidden_dropout_prob\": 0.1,\n",
              "  \"hidden_size\": 768,\n",
              "  \"initializer_range\": 0.02,\n",
              "  \"intermediate_size\": 3072,\n",
              "  \"layer_norm_eps\": 1e-12,\n",
              "  \"max_position_embeddings\": 512,\n",
              "  \"model_type\": \"bert\",\n",
              "  \"num_attention_heads\": 12,\n",
              "  \"num_hidden_layers\": 12,\n",
              "  \"pad_token_id\": 0,\n",
              "  \"position_embedding_type\": \"absolute\",\n",
              "  \"transformers_version\": \"4.35.2\",\n",
              "  \"type_vocab_size\": 2,\n",
              "  \"use_cache\": true,\n",
              "  \"vocab_size\": 30522\n",
              "}"
            ]
          },
          "metadata": {},
          "execution_count": 7
        }
      ],
      "source": [
        "config"
      ]
    },
    {
      "cell_type": "code",
      "execution_count": 8,
      "metadata": {
        "colab": {
          "base_uri": "https://localhost:8080/"
        },
        "id": "DwPzyIiIDLc1",
        "outputId": "2b0edc9d-487c-4352-d63f-6fdd4b505f92"
      },
      "outputs": [
        {
          "output_type": "execute_result",
          "data": {
            "text/plain": [
              "Embedding(30522, 768)"
            ]
          },
          "metadata": {},
          "execution_count": 8
        }
      ],
      "source": [
        "embedding_layer"
      ]
    },
    {
      "cell_type": "code",
      "execution_count": 9,
      "metadata": {
        "id": "r7EqzOk1yPzf"
      },
      "outputs": [],
      "source": [
        "import torch\n",
        "import torch.nn.functional as F\n",
        "import torch.nn as nn\n",
        "\n",
        "def scaled_dot_product_attention(q,k,v):\n",
        "\n",
        "  dim_k = k.size(-1)\n",
        "  scores = torch.bmm(q,k.transpose(1,2))//sqrt(dim_k)\n",
        "  weights = F.softmax(scores,dim = 1)\n",
        "\n",
        "  return torch.bmm(weights,v)\n"
      ]
    },
    {
      "cell_type": "code",
      "execution_count": 10,
      "metadata": {
        "id": "Uu60_-ScJYRx"
      },
      "outputs": [],
      "source": [
        "class SelfAttention(nn.Module):\n",
        "\n",
        "  def __init__(self,embed_dim,head_dim):\n",
        "    super().__init__()\n",
        "\n",
        "    self.q = nn.Linear(embed_dim,head_dim)\n",
        "    self.k = nn.Linear(embed_dim,head_dim)\n",
        "    self.v = nn.Linear(embed_dim,head_dim)\n",
        "\n",
        "  def forward(self,hidden_state):\n",
        "\n",
        "    attn_outputs = scaled_dot_product_attention(self.q(hidden_state),self.k(hidden_state),\n",
        "                                                     self.v(hidden_state))\n",
        "\n",
        "    return attn_outputs\n"
      ]
    },
    {
      "cell_type": "markdown",
      "source": [
        "**embed_dim* refers to the dimensionality of the input embeddings. In the context of natural language processing, it represents the size of the vector space in which words or tokens are embedded.\n",
        "For example, if each word in a language is represented by a 300-dimensional vector, then embed_dim would be 300.\n",
        "Head Dimension (head_dim):\n",
        "\n",
        "**head_dim** is the dimensionality of the transformed vectors within each attention head in a multi-head attention mechanism.\n",
        "In the context of multi-head attention, the input embedding vectors are linearly transformed into three sets of vectors (query, key, and value) for each attention head. head_dim represents the dimensionality of these transformed vectors.\n",
        "It's common to choose head_dim as a fraction of embed_dim. For example, if embed_dim is 300 and there are 3 attention heads, then head_dim might be set to 100.\n",
        "Number of Heads (num_heads):\n",
        "\n",
        "**num_heads** is the number of parallel attention heads in a multi-head attention mechanism.\n",
        "Each attention head captures different aspects of relationships and dependencies within the input sequence. Having multiple heads allows the model to attend to different parts of the input sequence simultaneously.\n",
        "A larger num_heads can capture more complex patterns but comes with increased computational complexity."
      ],
      "metadata": {
        "id": "FyOYxMgxIH7X"
      }
    },
    {
      "cell_type": "markdown",
      "metadata": {
        "id": "bqrDBVxhzooe"
      },
      "source": [
        "- self.q = nn.Linear(embed_size,head_dim) is initializing the random weights (Qq) in this case.\n",
        "\n",
        "- self.q(hidden_state) is basically matrix multiplication of Embedded vector and Qq(randomly initialized weights) to form q.\n",
        "\n",
        "similarly others\n"
      ]
    },
    {
      "cell_type": "code",
      "execution_count": 13,
      "metadata": {
        "colab": {
          "base_uri": "https://localhost:8080/"
        },
        "id": "CAuS5WifEEAI",
        "outputId": "5a1c9a70-a9b7-4815-abaa-e82ba9e13abe"
      },
      "outputs": [
        {
          "output_type": "execute_result",
          "data": {
            "text/plain": [
              "BertConfig {\n",
              "  \"_name_or_path\": \"bert-base-uncased\",\n",
              "  \"architectures\": [\n",
              "    \"BertForMaskedLM\"\n",
              "  ],\n",
              "  \"attention_probs_dropout_prob\": 0.1,\n",
              "  \"classifier_dropout\": null,\n",
              "  \"gradient_checkpointing\": false,\n",
              "  \"hidden_act\": \"gelu\",\n",
              "  \"hidden_dropout_prob\": 0.1,\n",
              "  \"hidden_size\": 768,\n",
              "  \"initializer_range\": 0.02,\n",
              "  \"intermediate_size\": 3072,\n",
              "  \"layer_norm_eps\": 1e-12,\n",
              "  \"max_position_embeddings\": 512,\n",
              "  \"model_type\": \"bert\",\n",
              "  \"num_attention_heads\": 12,\n",
              "  \"num_hidden_layers\": 12,\n",
              "  \"pad_token_id\": 0,\n",
              "  \"position_embedding_type\": \"absolute\",\n",
              "  \"transformers_version\": \"4.35.2\",\n",
              "  \"type_vocab_size\": 2,\n",
              "  \"use_cache\": true,\n",
              "  \"vocab_size\": 30522\n",
              "}"
            ]
          },
          "metadata": {},
          "execution_count": 13
        }
      ],
      "source": [
        "config = AutoConfig.from_pretrained(model_ckpt)\n",
        "config"
      ]
    },
    {
      "cell_type": "code",
      "execution_count": 14,
      "metadata": {
        "id": "QCmldUdizoHs"
      },
      "outputs": [],
      "source": [
        "from math import sqrt\n",
        "class MultiAttentionHead(nn.Module):\n",
        "\n",
        "  def __init__(self,config):\n",
        "\n",
        "    super().__init__()\n",
        "    #Will not use self.embed_dim as\n",
        "    embed_dim = config.hidden_size\n",
        "    num_attention_head = config.num_attention_heads\n",
        "    head_dim = embed_dim//num_attention_head\n",
        "\n",
        "    self.heads = nn.ModuleList([SelfAttention(embed_dim,head_dim) for _ in range(num_attention_head)])\n",
        "    self.output_linear = nn.Linear(embed_dim,embed_dim)\n",
        "\n",
        "  def forward(self,hidden_state):\n",
        "\n",
        "    x = torch.cat([h(hidden_state) for h in self.heads],dim = -1)\n",
        "    x = self.output_linear(x)\n",
        "    return x"
      ]
    },
    {
      "cell_type": "markdown",
      "metadata": {
        "id": "2-lOwKxPf1Qm"
      },
      "source": [
        "- In above code we making number of multi heads we need.\n",
        "- In *def forward(self,hidden)*: We concatenating the results obtained from each hidden layer along the last dim (dim=-1)\n",
        "As return the concatenated tensor for the furthur process.\n",
        "\n",
        "- Notice that the concatenated output from the attention heads is also fed through a\n",
        "final linear layer to produce an output tensor of shape [batch_size, seq_len,\n",
        "hidden_dim]"
      ]
    },
    {
      "cell_type": "code",
      "execution_count": 15,
      "metadata": {
        "colab": {
          "base_uri": "https://localhost:8080/"
        },
        "id": "7l6r-NRzeFK8",
        "outputId": "0a9a5f3c-b97c-4380-f7d8-24c9859c7a86"
      },
      "outputs": [
        {
          "output_type": "execute_result",
          "data": {
            "text/plain": [
              "torch.Size([1, 5, 768])"
            ]
          },
          "metadata": {},
          "execution_count": 15
        }
      ],
      "source": [
        "multihead_attn = MultiAttentionHead(config)\n",
        "attn_outputs = multihead_attn(input_emb)\n",
        "attn_outputs.size()"
      ]
    },
    {
      "cell_type": "code",
      "execution_count": 16,
      "metadata": {
        "id": "tttrfblJK568"
      },
      "outputs": [],
      "source": [
        "class FeedForward(nn.Module):\n",
        "\n",
        "  def __init__(self,config):\n",
        "\n",
        "    super().__init__()\n",
        "    self.linear_1 = nn.Linear(config.hidden_size,config.intermediate_size)\n",
        "    self.linear_2 = nn.Linear(config.intermediate_size,config.hidden_size)\n",
        "    self.gelu = nn.GELU() #Gaussian Error Linear Unit Activation Function\n",
        "    self.dropout = nn.Dropout(config.hidden_dropout_prob)\n",
        "\n",
        "\n",
        "  def forward(self,x):\n",
        "\n",
        "    x = self.linear_1(x)\n",
        "    x = self.gelu(x)\n",
        "    x = self.linear_2(x)\n",
        "    x = self.dropout(x)\n",
        "\n",
        "    return x"
      ]
    },
    {
      "cell_type": "markdown",
      "metadata": {
        "id": "7dLVzQEmPuQl"
      },
      "source": [
        "Linear Layer 1 (self.linear_1):\n",
        "\n",
        "This linear layer transforms the input tensor from a dimension of config.hidden_size to config.intermediate_size.\n",
        "The transformation is learned during the training process through the optimization of weights and biases associated with this linear layer.\n",
        "The purpose of this transformation is to project the input features into an intermediate space, allowing the model to capture complex patterns and relationships in the data.\n",
        "\n",
        "Linear Layer 2 (self.linear_2):\n",
        "\n",
        "This linear layer transforms the tensor from the intermediate space (dimension config.intermediate_size) back to the original space (dimension config.hidden_size).\n",
        "Similar to the first linear layer, the transformation is learned during training.\n",
        "The purpose of this second linear layer is to map the intermediate representations back to the original dimension, providing a mechanism for the model to reconstruct the original features.\n",
        "Why Two Linear Layers:\n",
        "\n",
        "The use of two linear layers with an intermediate dimension is a common design in feedforward layers within transformer architectures.\n",
        "The first linear layer allows the model to capture complex relationships in a higher-dimensional space, introducing non-linearity through learned weights and biases.\n",
        "The second linear layer projects the representations back to the original dimension, serving as a form of dimensionality reduction."
      ]
    },
    {
      "cell_type": "code",
      "execution_count": 17,
      "metadata": {
        "colab": {
          "base_uri": "https://localhost:8080/"
        },
        "id": "bq1BvrJ1Ptuj",
        "outputId": "21dd1703-a33d-4239-a569-593938578ad0"
      },
      "outputs": [
        {
          "output_type": "execute_result",
          "data": {
            "text/plain": [
              "torch.Size([1, 5, 768])"
            ]
          },
          "metadata": {},
          "execution_count": 17
        }
      ],
      "source": [
        "feed_forward = FeedForward(config)\n",
        "ff_output = feed_forward(attn_outputs)\n",
        "ff_output.size()"
      ]
    },
    {
      "cell_type": "markdown",
      "metadata": {
        "id": "45vStpZ_hx2U"
      },
      "source": [
        "![image.png](data:image/png;base64,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)"
      ]
    },
    {
      "cell_type": "code",
      "execution_count": 17,
      "metadata": {
        "id": "36_eRDHsijy6"
      },
      "outputs": [],
      "source": []
    },
    {
      "cell_type": "markdown",
      "metadata": {
        "id": "W1Cbk2DgikIv"
      },
      "source": [
        "We Are using Pre Layer Normalization:\n",
        "\n",
        "\n",
        "Post layer normalization\n",
        "- This is the arrangement used in the Transformer paper; it places layer normalization\n",
        "in between the skip connections. This arrangement is tricky to train from\n",
        "scratch as the gradients can diverge. For this reason, you will often see a concept\n",
        "known as learning rate warm-up, where the learning rate is gradually increased\n",
        "from a small value to some maximum value during training.\n",
        "\n",
        "\n",
        "Pre layer normalization\n",
        "- This is the most common arrangement found in the literature; it places layer normalization\n",
        "within the span of the skip connections. This tends to be much more\n",
        "stable during training, and it does not usually require any learning rate warm-up."
      ]
    },
    {
      "cell_type": "code",
      "execution_count": 18,
      "metadata": {
        "id": "Ni1jcmyzd_Cg"
      },
      "outputs": [],
      "source": [
        "class TransformerEncoderLayer(nn.Module):\n",
        "\n",
        "  def __init__(self,config):\n",
        "\n",
        "    super().__init__()\n",
        "\n",
        "    self.layer_norm_1 = nn.LayerNorm(config.hidden_size)\n",
        "    self.layer_norm_2 = nn.LayerNorm(config.hidden_size)\n",
        "    self.attention = MultiAttentionHead(config)\n",
        "    self.FeedForward = FeedForward(config)\n",
        "\n",
        "  def forward(self,x):\n",
        "\n",
        "    hidden_state = self.layer_norm_1(x)\n",
        "\n",
        "    x = x + self.attention(hidden_state)\n",
        "\n",
        "    x = x + self.FeedForward(self.layer_norm_2(x))\n",
        "\n",
        "    return x"
      ]
    },
    {
      "cell_type": "markdown",
      "metadata": {
        "id": "ZsVvGlG9jjvg"
      },
      "source": [
        "- As According to the process in Architecture we have formed a structure of Two Layer Normalization,MultiheadAttention, FeedForward.\n",
        "\n",
        "\n",
        "- In Forward fn we are first normalizing the hidden_state then it goes to multiheadattention layer which results is added to the original input tensor x.\n",
        "\n",
        "- Seconldy the Added and Normalized layer goes to Feed Forward Layer , the result output is added with the result of Add and Normalize layer after Attention Layer.\n",
        "\n"
      ]
    },
    {
      "cell_type": "code",
      "execution_count": 19,
      "metadata": {
        "colab": {
          "base_uri": "https://localhost:8080/"
        },
        "id": "OD-71dMbnSwv",
        "outputId": "2bddfaae-c1c3-446f-f2eb-2ed913166a63"
      },
      "outputs": [
        {
          "output_type": "execute_result",
          "data": {
            "text/plain": [
              "torch.Size([1, 5, 768])"
            ]
          },
          "metadata": {},
          "execution_count": 19
        }
      ],
      "source": [
        "encoder_layer = TransformerEncoderLayer(config)\n",
        "input_emb.shape"
      ]
    },
    {
      "cell_type": "code",
      "execution_count": 20,
      "metadata": {
        "colab": {
          "base_uri": "https://localhost:8080/"
        },
        "id": "VVUDpE7ZnnCz",
        "outputId": "e8513760-848f-4cbc-9add-2e3024f54eb7"
      },
      "outputs": [
        {
          "output_type": "execute_result",
          "data": {
            "text/plain": [
              "torch.Size([1, 5, 768])"
            ]
          },
          "metadata": {},
          "execution_count": 20
        }
      ],
      "source": [
        "encoder_layer(input_emb).size()"
      ]
    },
    {
      "cell_type": "markdown",
      "metadata": {
        "id": "LTBW7hd-wMpn"
      },
      "source": [
        "### Position Embedding"
      ]
    },
    {
      "cell_type": "code",
      "execution_count": 21,
      "metadata": {
        "id": "N6TkxtEZuE4K"
      },
      "outputs": [],
      "source": [
        "class PostionEmbedding(nn.Module):\n",
        "\n",
        "  def __init__(self,config):\n",
        "    super().__init__()\n",
        "\n",
        "    self.token_embeddings = nn.Embedding(config.vocab_size,config.hidden_size)\n",
        "\n",
        "    self.position_embeddings = nn.Embedding(config.max_position_embeddings,config.hidden_size)\n",
        "    self.layer_norm = nn.LayerNorm(config.hidden_size,eps = 1e-12)\n",
        "    self.dropout = nn.Dropout()\n",
        "\n",
        "  def forward(self,input_ids):\n",
        "\n",
        "    seq_length = input_ids.size(-1)\n",
        "    position_ids = torch.arange(seq_length,dtype = torch.long).unsqueeze(0)\n",
        "\n",
        "    token_embedding = self.token_embeddings(input_ids)\n",
        "    position_embedding = self.position_embeddings(position_ids)\n",
        "\n",
        "    embeddings = token_embeddings + position_embeddings\n",
        "    embeddings = self.layer_norm(embeddings)\n",
        "    embeddings = self.dropout(embeddings)\n"
      ]
    },
    {
      "cell_type": "markdown",
      "source": [
        "After The Encoder we will move forward to Decoder Part.\n",
        "\n",
        "As Decoder has two attention Sublayer:\n",
        "1. Mask Multi Head Self Attention Layer.\n",
        "2. Encoder Decoder Attention Layer\n",
        "\n",
        "Musk self attention layer is to ensure the token we are generate at each output is based on past output and current output being predicted.ithout this, the decoder could\n",
        "cheat during training by simply copying the target translations; masking the\n",
        "inputs ensures the task is not trivial.\n",
        "\n",
        "\n",
        "In traditional transformers its a sequence wise ouput prediction (i.e left to right or right to left) but in BERT the mask words are required to be predicted by a transformers are in both direction.\n",
        "\n",
        "Encoder-decoder attention layer\n",
        "Performs multi-head attention over the output key and value vectors of the\n",
        "encoder stack, with the intermediate representations of the decoder acting as the\n",
        "queries.6 This way the encoder-decoder attention layer learns how to relate\n",
        "tokens from two different sequences, such as two different languages. The\n",
        "decoder has access to the encoder keys and values in each block."
      ],
      "metadata": {
        "id": "rK--HLgQIhMO"
      }
    },
    {
      "cell_type": "code",
      "source": [
        "seq_len = inputs.input_ids.size(-1)\n",
        "mask = torch.tril(torch.ones(seq_len,seq_len)).unsqueeze(0)\n",
        "mask"
      ],
      "metadata": {
        "colab": {
          "base_uri": "https://localhost:8080/"
        },
        "id": "B12MSlg2NA0N",
        "outputId": "c5a45dc5-f0d1-4ebe-acc1-6f4fad54bd07"
      },
      "execution_count": 22,
      "outputs": [
        {
          "output_type": "execute_result",
          "data": {
            "text/plain": [
              "tensor([[[1., 0., 0., 0., 0.],\n",
              "         [1., 1., 0., 0., 0.],\n",
              "         [1., 1., 1., 0., 0.],\n",
              "         [1., 1., 1., 1., 0.],\n",
              "         [1., 1., 1., 1., 1.]]])"
            ]
          },
          "metadata": {},
          "execution_count": 22
        }
      ]
    },
    {
      "cell_type": "markdown",
      "source": [
        "we’ve used PyTorch’s tril() function to create the lower triangular matrix.\n",
        "Once we have this mask matrix, we can prevent each attention head from peeking at\n",
        "future tokens by using Tensor.masked_fill() to replace all the zeros with negative\n",
        "infinity\n",
        "\n",
        "The unsqueezing is a common practice when dealing with batched sequences to maintain compatibility with the batched nature of modern deep learning frameworks like PyTorch or TensorFlow"
      ],
      "metadata": {
        "id": "E3jycaF-RYAI"
      }
    },
    {
      "cell_type": "code",
      "source": [
        "def scaled_dot_product_attention(q,k,v,mask = None):\n",
        "  dim_k = key.size(-1)\n",
        "  scores = nn.bmm(q,k.transpose(1,2))//sqrt(dim_k)\n",
        "\n",
        "  if mask is not None:\n",
        "    scores = scores.masked_fill(mask==0,-float(\"inf\"))\n",
        "  weights = F.sofmax(scores)\n",
        "  return weights.bmm(v)"
      ],
      "metadata": {
        "id": "QOc6Vb4qSngD"
      },
      "execution_count": 23,
      "outputs": []
    },
    {
      "cell_type": "code",
      "source": [
        "class MaskSelfAttention(nn.Module):\n",
        "\n",
        "  def __init__(self,embed_dim,head_dim):\n",
        "    super().__init__()\n",
        "\n",
        "    self.q = nn.Linear(embed_dim,head_dim)\n",
        "    self.k = nn.Linear(embed_dim,head_dim)\n",
        "    self.v = nn.Linear(embed_dim,head_dim)\n",
        "\n",
        "  def forward(self,hidden_state):\n",
        "\n",
        "    mask_attn_output = scaled_dot_product_attention(self.q(hidden_state),self.k(hidden_state),self.v(hidden_state))\n",
        "\n",
        "    return mask_attn_output"
      ],
      "metadata": {
        "id": "8an-YiTmZt7v"
      },
      "execution_count": 27,
      "outputs": []
    },
    {
      "cell_type": "code",
      "source": [
        "class MultiAttentionHeadDecoder(nn.Module):\n",
        "  def __init__(self,config):\n",
        "\n",
        "    super().__init__()\n",
        "    self.embed_dim = config.add_cross_attention\n",
        "    self.head_num = config.num_attention_heads\n",
        "    self.head_dim = embed_dim//head_num\n",
        "\n",
        "    self.output_layer = ([MaskSelfAttention] for _ in range(head_num))\n",
        "\n",
        "    def forward(self,hidden_state):\n",
        "\n",
        ""
      ],
      "metadata": {
        "id": "waIk0rImg1-_"
      },
      "execution_count": null,
      "outputs": []
    },
    {
      "cell_type": "code",
      "source": [
        "config"
      ],
      "metadata": {
        "colab": {
          "base_uri": "https://localhost:8080/"
        },
        "id": "faj_KHUKh6wQ",
        "outputId": "5b79e92c-08bc-45c2-9498-408568e9c04c"
      },
      "execution_count": 28,
      "outputs": [
        {
          "output_type": "execute_result",
          "data": {
            "text/plain": [
              "BertConfig {\n",
              "  \"_name_or_path\": \"bert-base-uncased\",\n",
              "  \"architectures\": [\n",
              "    \"BertForMaskedLM\"\n",
              "  ],\n",
              "  \"attention_probs_dropout_prob\": 0.1,\n",
              "  \"classifier_dropout\": null,\n",
              "  \"gradient_checkpointing\": false,\n",
              "  \"hidden_act\": \"gelu\",\n",
              "  \"hidden_dropout_prob\": 0.1,\n",
              "  \"hidden_size\": 768,\n",
              "  \"initializer_range\": 0.02,\n",
              "  \"intermediate_size\": 3072,\n",
              "  \"layer_norm_eps\": 1e-12,\n",
              "  \"max_position_embeddings\": 512,\n",
              "  \"model_type\": \"bert\",\n",
              "  \"num_attention_heads\": 12,\n",
              "  \"num_hidden_layers\": 12,\n",
              "  \"pad_token_id\": 0,\n",
              "  \"position_embedding_type\": \"absolute\",\n",
              "  \"transformers_version\": \"4.35.2\",\n",
              "  \"type_vocab_size\": 2,\n",
              "  \"use_cache\": true,\n",
              "  \"vocab_size\": 30522\n",
              "}"
            ]
          },
          "metadata": {},
          "execution_count": 28
        }
      ]
    },
    {
      "cell_type": "code",
      "source": [],
      "metadata": {
        "id": "sJ5q6jMwh8Lo"
      },
      "execution_count": null,
      "outputs": []
    }
  ],
  "metadata": {
    "colab": {
      "provenance": []
    },
    "kernelspec": {
      "display_name": "Python 3",
      "name": "python3"
    },
    "language_info": {
      "name": "python"
    },
    "widgets": {
      "application/vnd.jupyter.widget-state+json": {
        "da3478a561704d4bbe8c0802ff5c3fb6": {
          "model_module": "@jupyter-widgets/controls",
          "model_name": "HBoxModel",
          "model_module_version": "1.5.0",
          "state": {
            "_dom_classes": [],
            "_model_module": "@jupyter-widgets/controls",
            "_model_module_version": "1.5.0",
            "_model_name": "HBoxModel",
            "_view_count": null,
            "_view_module": "@jupyter-widgets/controls",
            "_view_module_version": "1.5.0",
            "_view_name": "HBoxView",
            "box_style": "",
            "children": [
              "IPY_MODEL_225cc380d7414280b443df6bad5705c3",
              "IPY_MODEL_477778c65eed418996d95a106a1a5538",
              "IPY_MODEL_bca2ffd911fb4a39a4128d828dc462ec"
            ],
            "layout": "IPY_MODEL_4337f06b47c542148dd892013a031549"
          }
        },
        "225cc380d7414280b443df6bad5705c3": {
          "model_module": "@jupyter-widgets/controls",
          "model_name": "HTMLModel",
          "model_module_version": "1.5.0",
          "state": {
            "_dom_classes": [],
            "_model_module": "@jupyter-widgets/controls",
            "_model_module_version": "1.5.0",
            "_model_name": "HTMLModel",
            "_view_count": null,
            "_view_module": "@jupyter-widgets/controls",
            "_view_module_version": "1.5.0",
            "_view_name": "HTMLView",
            "description": "",
            "description_tooltip": null,
            "layout": "IPY_MODEL_302fc9c3e9b74dfcabb8ea4225b96e4b",
            "placeholder": "​",
            "style": "IPY_MODEL_a1bd9f6af70e4ed5956ced465761c428",
            "value": "tokenizer_config.json: 100%"
          }
        },
        "477778c65eed418996d95a106a1a5538": {
          "model_module": "@jupyter-widgets/controls",
          "model_name": "FloatProgressModel",
          "model_module_version": "1.5.0",
          "state": {
            "_dom_classes": [],
            "_model_module": "@jupyter-widgets/controls",
            "_model_module_version": "1.5.0",
            "_model_name": "FloatProgressModel",
            "_view_count": null,
            "_view_module": "@jupyter-widgets/controls",
            "_view_module_version": "1.5.0",
            "_view_name": "ProgressView",
            "bar_style": "success",
            "description": "",
            "description_tooltip": null,
            "layout": "IPY_MODEL_7c63d4ac75da438897aa84abb6c88930",
            "max": 28,
            "min": 0,
            "orientation": "horizontal",
            "style": "IPY_MODEL_aeb648d12b7e439cbd0735c2f6bbbbdb",
            "value": 28
          }
        },
        "bca2ffd911fb4a39a4128d828dc462ec": {
          "model_module": "@jupyter-widgets/controls",
          "model_name": "HTMLModel",
          "model_module_version": "1.5.0",
          "state": {
            "_dom_classes": [],
            "_model_module": "@jupyter-widgets/controls",
            "_model_module_version": "1.5.0",
            "_model_name": "HTMLModel",
            "_view_count": null,
            "_view_module": "@jupyter-widgets/controls",
            "_view_module_version": "1.5.0",
            "_view_name": "HTMLView",
            "description": "",
            "description_tooltip": null,
            "layout": "IPY_MODEL_30f0edf395264a608f7bbdef289d188d",
            "placeholder": "​",
            "style": "IPY_MODEL_4e34853bdaff45f4b61d86f1d48e3fc8",
            "value": " 28.0/28.0 [00:00&lt;00:00, 316B/s]"
          }
        },
        "4337f06b47c542148dd892013a031549": {
          "model_module": "@jupyter-widgets/base",
          "model_name": "LayoutModel",
          "model_module_version": "1.2.0",
          "state": {
            "_model_module": "@jupyter-widgets/base",
            "_model_module_version": "1.2.0",
            "_model_name": "LayoutModel",
            "_view_count": null,
            "_view_module": "@jupyter-widgets/base",
            "_view_module_version": "1.2.0",
            "_view_name": "LayoutView",
            "align_content": null,
            "align_items": null,
            "align_self": null,
            "border": null,
            "bottom": null,
            "display": null,
            "flex": null,
            "flex_flow": null,
            "grid_area": null,
            "grid_auto_columns": null,
            "grid_auto_flow": null,
            "grid_auto_rows": null,
            "grid_column": null,
            "grid_gap": null,
            "grid_row": null,
            "grid_template_areas": null,
            "grid_template_columns": null,
            "grid_template_rows": null,
            "height": null,
            "justify_content": null,
            "justify_items": null,
            "left": null,
            "margin": null,
            "max_height": null,
            "max_width": null,
            "min_height": null,
            "min_width": null,
            "object_fit": null,
            "object_position": null,
            "order": null,
            "overflow": null,
            "overflow_x": null,
            "overflow_y": null,
            "padding": null,
            "right": null,
            "top": null,
            "visibility": null,
            "width": null
          }
        },
        "302fc9c3e9b74dfcabb8ea4225b96e4b": {
          "model_module": "@jupyter-widgets/base",
          "model_name": "LayoutModel",
          "model_module_version": "1.2.0",
          "state": {
            "_model_module": "@jupyter-widgets/base",
            "_model_module_version": "1.2.0",
            "_model_name": "LayoutModel",
            "_view_count": null,
            "_view_module": "@jupyter-widgets/base",
            "_view_module_version": "1.2.0",
            "_view_name": "LayoutView",
            "align_content": null,
            "align_items": null,
            "align_self": null,
            "border": null,
            "bottom": null,
            "display": null,
            "flex": null,
            "flex_flow": null,
            "grid_area": null,
            "grid_auto_columns": null,
            "grid_auto_flow": null,
            "grid_auto_rows": null,
            "grid_column": null,
            "grid_gap": null,
            "grid_row": null,
            "grid_template_areas": null,
            "grid_template_columns": null,
            "grid_template_rows": null,
            "height": null,
            "justify_content": null,
            "justify_items": null,
            "left": null,
            "margin": null,
            "max_height": null,
            "max_width": null,
            "min_height": null,
            "min_width": null,
            "object_fit": null,
            "object_position": null,
            "order": null,
            "overflow": null,
            "overflow_x": null,
            "overflow_y": null,
            "padding": null,
            "right": null,
            "top": null,
            "visibility": null,
            "width": null
          }
        },
        "a1bd9f6af70e4ed5956ced465761c428": {
          "model_module": "@jupyter-widgets/controls",
          "model_name": "DescriptionStyleModel",
          "model_module_version": "1.5.0",
          "state": {
            "_model_module": "@jupyter-widgets/controls",
            "_model_module_version": "1.5.0",
            "_model_name": "DescriptionStyleModel",
            "_view_count": null,
            "_view_module": "@jupyter-widgets/base",
            "_view_module_version": "1.2.0",
            "_view_name": "StyleView",
            "description_width": ""
          }
        },
        "7c63d4ac75da438897aa84abb6c88930": {
          "model_module": "@jupyter-widgets/base",
          "model_name": "LayoutModel",
          "model_module_version": "1.2.0",
          "state": {
            "_model_module": "@jupyter-widgets/base",
            "_model_module_version": "1.2.0",
            "_model_name": "LayoutModel",
            "_view_count": null,
            "_view_module": "@jupyter-widgets/base",
            "_view_module_version": "1.2.0",
            "_view_name": "LayoutView",
            "align_content": null,
            "align_items": null,
            "align_self": null,
            "border": null,
            "bottom": null,
            "display": null,
            "flex": null,
            "flex_flow": null,
            "grid_area": null,
            "grid_auto_columns": null,
            "grid_auto_flow": null,
            "grid_auto_rows": null,
            "grid_column": null,
            "grid_gap": null,
            "grid_row": null,
            "grid_template_areas": null,
            "grid_template_columns": null,
            "grid_template_rows": null,
            "height": null,
            "justify_content": null,
            "justify_items": null,
            "left": null,
            "margin": null,
            "max_height": null,
            "max_width": null,
            "min_height": null,
            "min_width": null,
            "object_fit": null,
            "object_position": null,
            "order": null,
            "overflow": null,
            "overflow_x": null,
            "overflow_y": null,
            "padding": null,
            "right": null,
            "top": null,
            "visibility": null,
            "width": null
          }
        },
        "aeb648d12b7e439cbd0735c2f6bbbbdb": {
          "model_module": "@jupyter-widgets/controls",
          "model_name": "ProgressStyleModel",
          "model_module_version": "1.5.0",
          "state": {
            "_model_module": "@jupyter-widgets/controls",
            "_model_module_version": "1.5.0",
            "_model_name": "ProgressStyleModel",
            "_view_count": null,
            "_view_module": "@jupyter-widgets/base",
            "_view_module_version": "1.2.0",
            "_view_name": "StyleView",
            "bar_color": null,
            "description_width": ""
          }
        },
        "30f0edf395264a608f7bbdef289d188d": {
          "model_module": "@jupyter-widgets/base",
          "model_name": "LayoutModel",
          "model_module_version": "1.2.0",
          "state": {
            "_model_module": "@jupyter-widgets/base",
            "_model_module_version": "1.2.0",
            "_model_name": "LayoutModel",
            "_view_count": null,
            "_view_module": "@jupyter-widgets/base",
            "_view_module_version": "1.2.0",
            "_view_name": "LayoutView",
            "align_content": null,
            "align_items": null,
            "align_self": null,
            "border": null,
            "bottom": null,
            "display": null,
            "flex": null,
            "flex_flow": null,
            "grid_area": null,
            "grid_auto_columns": null,
            "grid_auto_flow": null,
            "grid_auto_rows": null,
            "grid_column": null,
            "grid_gap": null,
            "grid_row": null,
            "grid_template_areas": null,
            "grid_template_columns": null,
            "grid_template_rows": null,
            "height": null,
            "justify_content": null,
            "justify_items": null,
            "left": null,
            "margin": null,
            "max_height": null,
            "max_width": null,
            "min_height": null,
            "min_width": null,
            "object_fit": null,
            "object_position": null,
            "order": null,
            "overflow": null,
            "overflow_x": null,
            "overflow_y": null,
            "padding": null,
            "right": null,
            "top": null,
            "visibility": null,
            "width": null
          }
        },
        "4e34853bdaff45f4b61d86f1d48e3fc8": {
          "model_module": "@jupyter-widgets/controls",
          "model_name": "DescriptionStyleModel",
          "model_module_version": "1.5.0",
          "state": {
            "_model_module": "@jupyter-widgets/controls",
            "_model_module_version": "1.5.0",
            "_model_name": "DescriptionStyleModel",
            "_view_count": null,
            "_view_module": "@jupyter-widgets/base",
            "_view_module_version": "1.2.0",
            "_view_name": "StyleView",
            "description_width": ""
          }
        },
        "58ffa781bcf2482099ae89344e7d4db2": {
          "model_module": "@jupyter-widgets/controls",
          "model_name": "HBoxModel",
          "model_module_version": "1.5.0",
          "state": {
            "_dom_classes": [],
            "_model_module": "@jupyter-widgets/controls",
            "_model_module_version": "1.5.0",
            "_model_name": "HBoxModel",
            "_view_count": null,
            "_view_module": "@jupyter-widgets/controls",
            "_view_module_version": "1.5.0",
            "_view_name": "HBoxView",
            "box_style": "",
            "children": [
              "IPY_MODEL_d188e3ddde8e47d58ad9a63f40c131ed",
              "IPY_MODEL_0d0bec8e3f904c0ab033f7336d027580",
              "IPY_MODEL_f9b9697c9cad4f0ca36eac5d4ddddee0"
            ],
            "layout": "IPY_MODEL_7bdcb8b869694454b47a30db808f5e30"
          }
        },
        "d188e3ddde8e47d58ad9a63f40c131ed": {
          "model_module": "@jupyter-widgets/controls",
          "model_name": "HTMLModel",
          "model_module_version": "1.5.0",
          "state": {
            "_dom_classes": [],
            "_model_module": "@jupyter-widgets/controls",
            "_model_module_version": "1.5.0",
            "_model_name": "HTMLModel",
            "_view_count": null,
            "_view_module": "@jupyter-widgets/controls",
            "_view_module_version": "1.5.0",
            "_view_name": "HTMLView",
            "description": "",
            "description_tooltip": null,
            "layout": "IPY_MODEL_5e25b627edc8455595870bf12bd3bdff",
            "placeholder": "​",
            "style": "IPY_MODEL_f1e50ed26f3b4b18a5123b683023a30c",
            "value": "config.json: 100%"
          }
        },
        "0d0bec8e3f904c0ab033f7336d027580": {
          "model_module": "@jupyter-widgets/controls",
          "model_name": "FloatProgressModel",
          "model_module_version": "1.5.0",
          "state": {
            "_dom_classes": [],
            "_model_module": "@jupyter-widgets/controls",
            "_model_module_version": "1.5.0",
            "_model_name": "FloatProgressModel",
            "_view_count": null,
            "_view_module": "@jupyter-widgets/controls",
            "_view_module_version": "1.5.0",
            "_view_name": "ProgressView",
            "bar_style": "success",
            "description": "",
            "description_tooltip": null,
            "layout": "IPY_MODEL_3db46a2eb6594e8895ca1d084d481cbd",
            "max": 570,
            "min": 0,
            "orientation": "horizontal",
            "style": "IPY_MODEL_f5a58b608c9042bd9752e82c0ca750c6",
            "value": 570
          }
        },
        "f9b9697c9cad4f0ca36eac5d4ddddee0": {
          "model_module": "@jupyter-widgets/controls",
          "model_name": "HTMLModel",
          "model_module_version": "1.5.0",
          "state": {
            "_dom_classes": [],
            "_model_module": "@jupyter-widgets/controls",
            "_model_module_version": "1.5.0",
            "_model_name": "HTMLModel",
            "_view_count": null,
            "_view_module": "@jupyter-widgets/controls",
            "_view_module_version": "1.5.0",
            "_view_name": "HTMLView",
            "description": "",
            "description_tooltip": null,
            "layout": "IPY_MODEL_b1b7a8847d4043129f996d75844defd4",
            "placeholder": "​",
            "style": "IPY_MODEL_e6c7af30969a4076a475a4cc4536f7cf",
            "value": " 570/570 [00:00&lt;00:00, 7.45kB/s]"
          }
        },
        "7bdcb8b869694454b47a30db808f5e30": {
          "model_module": "@jupyter-widgets/base",
          "model_name": "LayoutModel",
          "model_module_version": "1.2.0",
          "state": {
            "_model_module": "@jupyter-widgets/base",
            "_model_module_version": "1.2.0",
            "_model_name": "LayoutModel",
            "_view_count": null,
            "_view_module": "@jupyter-widgets/base",
            "_view_module_version": "1.2.0",
            "_view_name": "LayoutView",
            "align_content": null,
            "align_items": null,
            "align_self": null,
            "border": null,
            "bottom": null,
            "display": null,
            "flex": null,
            "flex_flow": null,
            "grid_area": null,
            "grid_auto_columns": null,
            "grid_auto_flow": null,
            "grid_auto_rows": null,
            "grid_column": null,
            "grid_gap": null,
            "grid_row": null,
            "grid_template_areas": null,
            "grid_template_columns": null,
            "grid_template_rows": null,
            "height": null,
            "justify_content": null,
            "justify_items": null,
            "left": null,
            "margin": null,
            "max_height": null,
            "max_width": null,
            "min_height": null,
            "min_width": null,
            "object_fit": null,
            "object_position": null,
            "order": null,
            "overflow": null,
            "overflow_x": null,
            "overflow_y": null,
            "padding": null,
            "right": null,
            "top": null,
            "visibility": null,
            "width": null
          }
        },
        "5e25b627edc8455595870bf12bd3bdff": {
          "model_module": "@jupyter-widgets/base",
          "model_name": "LayoutModel",
          "model_module_version": "1.2.0",
          "state": {
            "_model_module": "@jupyter-widgets/base",
            "_model_module_version": "1.2.0",
            "_model_name": "LayoutModel",
            "_view_count": null,
            "_view_module": "@jupyter-widgets/base",
            "_view_module_version": "1.2.0",
            "_view_name": "LayoutView",
            "align_content": null,
            "align_items": null,
            "align_self": null,
            "border": null,
            "bottom": null,
            "display": null,
            "flex": null,
            "flex_flow": null,
            "grid_area": null,
            "grid_auto_columns": null,
            "grid_auto_flow": null,
            "grid_auto_rows": null,
            "grid_column": null,
            "grid_gap": null,
            "grid_row": null,
            "grid_template_areas": null,
            "grid_template_columns": null,
            "grid_template_rows": null,
            "height": null,
            "justify_content": null,
            "justify_items": null,
            "left": null,
            "margin": null,
            "max_height": null,
            "max_width": null,
            "min_height": null,
            "min_width": null,
            "object_fit": null,
            "object_position": null,
            "order": null,
            "overflow": null,
            "overflow_x": null,
            "overflow_y": null,
            "padding": null,
            "right": null,
            "top": null,
            "visibility": null,
            "width": null
          }
        },
        "f1e50ed26f3b4b18a5123b683023a30c": {
          "model_module": "@jupyter-widgets/controls",
          "model_name": "DescriptionStyleModel",
          "model_module_version": "1.5.0",
          "state": {
            "_model_module": "@jupyter-widgets/controls",
            "_model_module_version": "1.5.0",
            "_model_name": "DescriptionStyleModel",
            "_view_count": null,
            "_view_module": "@jupyter-widgets/base",
            "_view_module_version": "1.2.0",
            "_view_name": "StyleView",
            "description_width": ""
          }
        },
        "3db46a2eb6594e8895ca1d084d481cbd": {
          "model_module": "@jupyter-widgets/base",
          "model_name": "LayoutModel",
          "model_module_version": "1.2.0",
          "state": {
            "_model_module": "@jupyter-widgets/base",
            "_model_module_version": "1.2.0",
            "_model_name": "LayoutModel",
            "_view_count": null,
            "_view_module": "@jupyter-widgets/base",
            "_view_module_version": "1.2.0",
            "_view_name": "LayoutView",
            "align_content": null,
            "align_items": null,
            "align_self": null,
            "border": null,
            "bottom": null,
            "display": null,
            "flex": null,
            "flex_flow": null,
            "grid_area": null,
            "grid_auto_columns": null,
            "grid_auto_flow": null,
            "grid_auto_rows": null,
            "grid_column": null,
            "grid_gap": null,
            "grid_row": null,
            "grid_template_areas": null,
            "grid_template_columns": null,
            "grid_template_rows": null,
            "height": null,
            "justify_content": null,
            "justify_items": null,
            "left": null,
            "margin": null,
            "max_height": null,
            "max_width": null,
            "min_height": null,
            "min_width": null,
            "object_fit": null,
            "object_position": null,
            "order": null,
            "overflow": null,
            "overflow_x": null,
            "overflow_y": null,
            "padding": null,
            "right": null,
            "top": null,
            "visibility": null,
            "width": null
          }
        },
        "f5a58b608c9042bd9752e82c0ca750c6": {
          "model_module": "@jupyter-widgets/controls",
          "model_name": "ProgressStyleModel",
          "model_module_version": "1.5.0",
          "state": {
            "_model_module": "@jupyter-widgets/controls",
            "_model_module_version": "1.5.0",
            "_model_name": "ProgressStyleModel",
            "_view_count": null,
            "_view_module": "@jupyter-widgets/base",
            "_view_module_version": "1.2.0",
            "_view_name": "StyleView",
            "bar_color": null,
            "description_width": ""
          }
        },
        "b1b7a8847d4043129f996d75844defd4": {
          "model_module": "@jupyter-widgets/base",
          "model_name": "LayoutModel",
          "model_module_version": "1.2.0",
          "state": {
            "_model_module": "@jupyter-widgets/base",
            "_model_module_version": "1.2.0",
            "_model_name": "LayoutModel",
            "_view_count": null,
            "_view_module": "@jupyter-widgets/base",
            "_view_module_version": "1.2.0",
            "_view_name": "LayoutView",
            "align_content": null,
            "align_items": null,
            "align_self": null,
            "border": null,
            "bottom": null,
            "display": null,
            "flex": null,
            "flex_flow": null,
            "grid_area": null,
            "grid_auto_columns": null,
            "grid_auto_flow": null,
            "grid_auto_rows": null,
            "grid_column": null,
            "grid_gap": null,
            "grid_row": null,
            "grid_template_areas": null,
            "grid_template_columns": null,
            "grid_template_rows": null,
            "height": null,
            "justify_content": null,
            "justify_items": null,
            "left": null,
            "margin": null,
            "max_height": null,
            "max_width": null,
            "min_height": null,
            "min_width": null,
            "object_fit": null,
            "object_position": null,
            "order": null,
            "overflow": null,
            "overflow_x": null,
            "overflow_y": null,
            "padding": null,
            "right": null,
            "top": null,
            "visibility": null,
            "width": null
          }
        },
        "e6c7af30969a4076a475a4cc4536f7cf": {
          "model_module": "@jupyter-widgets/controls",
          "model_name": "DescriptionStyleModel",
          "model_module_version": "1.5.0",
          "state": {
            "_model_module": "@jupyter-widgets/controls",
            "_model_module_version": "1.5.0",
            "_model_name": "DescriptionStyleModel",
            "_view_count": null,
            "_view_module": "@jupyter-widgets/base",
            "_view_module_version": "1.2.0",
            "_view_name": "StyleView",
            "description_width": ""
          }
        },
        "539317f8cb6e441a92e8826646f6ad1f": {
          "model_module": "@jupyter-widgets/controls",
          "model_name": "HBoxModel",
          "model_module_version": "1.5.0",
          "state": {
            "_dom_classes": [],
            "_model_module": "@jupyter-widgets/controls",
            "_model_module_version": "1.5.0",
            "_model_name": "HBoxModel",
            "_view_count": null,
            "_view_module": "@jupyter-widgets/controls",
            "_view_module_version": "1.5.0",
            "_view_name": "HBoxView",
            "box_style": "",
            "children": [
              "IPY_MODEL_dc9caf1c8dd04567b52c31709a894c34",
              "IPY_MODEL_b0640fb1e2af4e72bfd458d495d56941",
              "IPY_MODEL_1ce42bbd10a6413e9f2f904045371c55"
            ],
            "layout": "IPY_MODEL_a0c134eaa3f14334b3dfe68cd0c521f9"
          }
        },
        "dc9caf1c8dd04567b52c31709a894c34": {
          "model_module": "@jupyter-widgets/controls",
          "model_name": "HTMLModel",
          "model_module_version": "1.5.0",
          "state": {
            "_dom_classes": [],
            "_model_module": "@jupyter-widgets/controls",
            "_model_module_version": "1.5.0",
            "_model_name": "HTMLModel",
            "_view_count": null,
            "_view_module": "@jupyter-widgets/controls",
            "_view_module_version": "1.5.0",
            "_view_name": "HTMLView",
            "description": "",
            "description_tooltip": null,
            "layout": "IPY_MODEL_b1a4108f13b24546813d85323364318a",
            "placeholder": "​",
            "style": "IPY_MODEL_6bb4fc0594074078a693966334beba93",
            "value": "vocab.txt: 100%"
          }
        },
        "b0640fb1e2af4e72bfd458d495d56941": {
          "model_module": "@jupyter-widgets/controls",
          "model_name": "FloatProgressModel",
          "model_module_version": "1.5.0",
          "state": {
            "_dom_classes": [],
            "_model_module": "@jupyter-widgets/controls",
            "_model_module_version": "1.5.0",
            "_model_name": "FloatProgressModel",
            "_view_count": null,
            "_view_module": "@jupyter-widgets/controls",
            "_view_module_version": "1.5.0",
            "_view_name": "ProgressView",
            "bar_style": "success",
            "description": "",
            "description_tooltip": null,
            "layout": "IPY_MODEL_85be8409ea37456889f35790a0775cae",
            "max": 231508,
            "min": 0,
            "orientation": "horizontal",
            "style": "IPY_MODEL_953d72cdc8a14243abbd068426027bbc",
            "value": 231508
          }
        },
        "1ce42bbd10a6413e9f2f904045371c55": {
          "model_module": "@jupyter-widgets/controls",
          "model_name": "HTMLModel",
          "model_module_version": "1.5.0",
          "state": {
            "_dom_classes": [],
            "_model_module": "@jupyter-widgets/controls",
            "_model_module_version": "1.5.0",
            "_model_name": "HTMLModel",
            "_view_count": null,
            "_view_module": "@jupyter-widgets/controls",
            "_view_module_version": "1.5.0",
            "_view_name": "HTMLView",
            "description": "",
            "description_tooltip": null,
            "layout": "IPY_MODEL_b4b0c78c62294c65baf8bc09768d7a80",
            "placeholder": "​",
            "style": "IPY_MODEL_5f833a137626432e8fbbbb7b55120b2b",
            "value": " 232k/232k [00:00&lt;00:00, 1.96MB/s]"
          }
        },
        "a0c134eaa3f14334b3dfe68cd0c521f9": {
          "model_module": "@jupyter-widgets/base",
          "model_name": "LayoutModel",
          "model_module_version": "1.2.0",
          "state": {
            "_model_module": "@jupyter-widgets/base",
            "_model_module_version": "1.2.0",
            "_model_name": "LayoutModel",
            "_view_count": null,
            "_view_module": "@jupyter-widgets/base",
            "_view_module_version": "1.2.0",
            "_view_name": "LayoutView",
            "align_content": null,
            "align_items": null,
            "align_self": null,
            "border": null,
            "bottom": null,
            "display": null,
            "flex": null,
            "flex_flow": null,
            "grid_area": null,
            "grid_auto_columns": null,
            "grid_auto_flow": null,
            "grid_auto_rows": null,
            "grid_column": null,
            "grid_gap": null,
            "grid_row": null,
            "grid_template_areas": null,
            "grid_template_columns": null,
            "grid_template_rows": null,
            "height": null,
            "justify_content": null,
            "justify_items": null,
            "left": null,
            "margin": null,
            "max_height": null,
            "max_width": null,
            "min_height": null,
            "min_width": null,
            "object_fit": null,
            "object_position": null,
            "order": null,
            "overflow": null,
            "overflow_x": null,
            "overflow_y": null,
            "padding": null,
            "right": null,
            "top": null,
            "visibility": null,
            "width": null
          }
        },
        "b1a4108f13b24546813d85323364318a": {
          "model_module": "@jupyter-widgets/base",
          "model_name": "LayoutModel",
          "model_module_version": "1.2.0",
          "state": {
            "_model_module": "@jupyter-widgets/base",
            "_model_module_version": "1.2.0",
            "_model_name": "LayoutModel",
            "_view_count": null,
            "_view_module": "@jupyter-widgets/base",
            "_view_module_version": "1.2.0",
            "_view_name": "LayoutView",
            "align_content": null,
            "align_items": null,
            "align_self": null,
            "border": null,
            "bottom": null,
            "display": null,
            "flex": null,
            "flex_flow": null,
            "grid_area": null,
            "grid_auto_columns": null,
            "grid_auto_flow": null,
            "grid_auto_rows": null,
            "grid_column": null,
            "grid_gap": null,
            "grid_row": null,
            "grid_template_areas": null,
            "grid_template_columns": null,
            "grid_template_rows": null,
            "height": null,
            "justify_content": null,
            "justify_items": null,
            "left": null,
            "margin": null,
            "max_height": null,
            "max_width": null,
            "min_height": null,
            "min_width": null,
            "object_fit": null,
            "object_position": null,
            "order": null,
            "overflow": null,
            "overflow_x": null,
            "overflow_y": null,
            "padding": null,
            "right": null,
            "top": null,
            "visibility": null,
            "width": null
          }
        },
        "6bb4fc0594074078a693966334beba93": {
          "model_module": "@jupyter-widgets/controls",
          "model_name": "DescriptionStyleModel",
          "model_module_version": "1.5.0",
          "state": {
            "_model_module": "@jupyter-widgets/controls",
            "_model_module_version": "1.5.0",
            "_model_name": "DescriptionStyleModel",
            "_view_count": null,
            "_view_module": "@jupyter-widgets/base",
            "_view_module_version": "1.2.0",
            "_view_name": "StyleView",
            "description_width": ""
          }
        },
        "85be8409ea37456889f35790a0775cae": {
          "model_module": "@jupyter-widgets/base",
          "model_name": "LayoutModel",
          "model_module_version": "1.2.0",
          "state": {
            "_model_module": "@jupyter-widgets/base",
            "_model_module_version": "1.2.0",
            "_model_name": "LayoutModel",
            "_view_count": null,
            "_view_module": "@jupyter-widgets/base",
            "_view_module_version": "1.2.0",
            "_view_name": "LayoutView",
            "align_content": null,
            "align_items": null,
            "align_self": null,
            "border": null,
            "bottom": null,
            "display": null,
            "flex": null,
            "flex_flow": null,
            "grid_area": null,
            "grid_auto_columns": null,
            "grid_auto_flow": null,
            "grid_auto_rows": null,
            "grid_column": null,
            "grid_gap": null,
            "grid_row": null,
            "grid_template_areas": null,
            "grid_template_columns": null,
            "grid_template_rows": null,
            "height": null,
            "justify_content": null,
            "justify_items": null,
            "left": null,
            "margin": null,
            "max_height": null,
            "max_width": null,
            "min_height": null,
            "min_width": null,
            "object_fit": null,
            "object_position": null,
            "order": null,
            "overflow": null,
            "overflow_x": null,
            "overflow_y": null,
            "padding": null,
            "right": null,
            "top": null,
            "visibility": null,
            "width": null
          }
        },
        "953d72cdc8a14243abbd068426027bbc": {
          "model_module": "@jupyter-widgets/controls",
          "model_name": "ProgressStyleModel",
          "model_module_version": "1.5.0",
          "state": {
            "_model_module": "@jupyter-widgets/controls",
            "_model_module_version": "1.5.0",
            "_model_name": "ProgressStyleModel",
            "_view_count": null,
            "_view_module": "@jupyter-widgets/base",
            "_view_module_version": "1.2.0",
            "_view_name": "StyleView",
            "bar_color": null,
            "description_width": ""
          }
        },
        "b4b0c78c62294c65baf8bc09768d7a80": {
          "model_module": "@jupyter-widgets/base",
          "model_name": "LayoutModel",
          "model_module_version": "1.2.0",
          "state": {
            "_model_module": "@jupyter-widgets/base",
            "_model_module_version": "1.2.0",
            "_model_name": "LayoutModel",
            "_view_count": null,
            "_view_module": "@jupyter-widgets/base",
            "_view_module_version": "1.2.0",
            "_view_name": "LayoutView",
            "align_content": null,
            "align_items": null,
            "align_self": null,
            "border": null,
            "bottom": null,
            "display": null,
            "flex": null,
            "flex_flow": null,
            "grid_area": null,
            "grid_auto_columns": null,
            "grid_auto_flow": null,
            "grid_auto_rows": null,
            "grid_column": null,
            "grid_gap": null,
            "grid_row": null,
            "grid_template_areas": null,
            "grid_template_columns": null,
            "grid_template_rows": null,
            "height": null,
            "justify_content": null,
            "justify_items": null,
            "left": null,
            "margin": null,
            "max_height": null,
            "max_width": null,
            "min_height": null,
            "min_width": null,
            "object_fit": null,
            "object_position": null,
            "order": null,
            "overflow": null,
            "overflow_x": null,
            "overflow_y": null,
            "padding": null,
            "right": null,
            "top": null,
            "visibility": null,
            "width": null
          }
        },
        "5f833a137626432e8fbbbb7b55120b2b": {
          "model_module": "@jupyter-widgets/controls",
          "model_name": "DescriptionStyleModel",
          "model_module_version": "1.5.0",
          "state": {
            "_model_module": "@jupyter-widgets/controls",
            "_model_module_version": "1.5.0",
            "_model_name": "DescriptionStyleModel",
            "_view_count": null,
            "_view_module": "@jupyter-widgets/base",
            "_view_module_version": "1.2.0",
            "_view_name": "StyleView",
            "description_width": ""
          }
        },
        "a66fc15484b9440bb699fc61972b5ff5": {
          "model_module": "@jupyter-widgets/controls",
          "model_name": "HBoxModel",
          "model_module_version": "1.5.0",
          "state": {
            "_dom_classes": [],
            "_model_module": "@jupyter-widgets/controls",
            "_model_module_version": "1.5.0",
            "_model_name": "HBoxModel",
            "_view_count": null,
            "_view_module": "@jupyter-widgets/controls",
            "_view_module_version": "1.5.0",
            "_view_name": "HBoxView",
            "box_style": "",
            "children": [
              "IPY_MODEL_c054679c21ad47bcb200f9fb0e904c1e",
              "IPY_MODEL_41488d84b6a9458aaf303d6e11fcf329",
              "IPY_MODEL_3d37661eb2134c509c68946120905670"
            ],
            "layout": "IPY_MODEL_3ec84066acf745d1b7372ba07b993906"
          }
        },
        "c054679c21ad47bcb200f9fb0e904c1e": {
          "model_module": "@jupyter-widgets/controls",
          "model_name": "HTMLModel",
          "model_module_version": "1.5.0",
          "state": {
            "_dom_classes": [],
            "_model_module": "@jupyter-widgets/controls",
            "_model_module_version": "1.5.0",
            "_model_name": "HTMLModel",
            "_view_count": null,
            "_view_module": "@jupyter-widgets/controls",
            "_view_module_version": "1.5.0",
            "_view_name": "HTMLView",
            "description": "",
            "description_tooltip": null,
            "layout": "IPY_MODEL_ceaf722a55ab4f70af08fa1533e90b67",
            "placeholder": "​",
            "style": "IPY_MODEL_9af2369a34844e8f89557eed2bbba8c8",
            "value": "tokenizer.json: 100%"
          }
        },
        "41488d84b6a9458aaf303d6e11fcf329": {
          "model_module": "@jupyter-widgets/controls",
          "model_name": "FloatProgressModel",
          "model_module_version": "1.5.0",
          "state": {
            "_dom_classes": [],
            "_model_module": "@jupyter-widgets/controls",
            "_model_module_version": "1.5.0",
            "_model_name": "FloatProgressModel",
            "_view_count": null,
            "_view_module": "@jupyter-widgets/controls",
            "_view_module_version": "1.5.0",
            "_view_name": "ProgressView",
            "bar_style": "success",
            "description": "",
            "description_tooltip": null,
            "layout": "IPY_MODEL_317ebe3a5f174f8186af8ae7baecf4ee",
            "max": 466062,
            "min": 0,
            "orientation": "horizontal",
            "style": "IPY_MODEL_f78796059a2942bdb2b6ec8c521812a4",
            "value": 466062
          }
        },
        "3d37661eb2134c509c68946120905670": {
          "model_module": "@jupyter-widgets/controls",
          "model_name": "HTMLModel",
          "model_module_version": "1.5.0",
          "state": {
            "_dom_classes": [],
            "_model_module": "@jupyter-widgets/controls",
            "_model_module_version": "1.5.0",
            "_model_name": "HTMLModel",
            "_view_count": null,
            "_view_module": "@jupyter-widgets/controls",
            "_view_module_version": "1.5.0",
            "_view_name": "HTMLView",
            "description": "",
            "description_tooltip": null,
            "layout": "IPY_MODEL_d6f63c406eb44a5984ba9adcacb93b37",
            "placeholder": "​",
            "style": "IPY_MODEL_09dae30c9f324e8a8708ec101a425781",
            "value": " 466k/466k [00:00&lt;00:00, 7.61MB/s]"
          }
        },
        "3ec84066acf745d1b7372ba07b993906": {
          "model_module": "@jupyter-widgets/base",
          "model_name": "LayoutModel",
          "model_module_version": "1.2.0",
          "state": {
            "_model_module": "@jupyter-widgets/base",
            "_model_module_version": "1.2.0",
            "_model_name": "LayoutModel",
            "_view_count": null,
            "_view_module": "@jupyter-widgets/base",
            "_view_module_version": "1.2.0",
            "_view_name": "LayoutView",
            "align_content": null,
            "align_items": null,
            "align_self": null,
            "border": null,
            "bottom": null,
            "display": null,
            "flex": null,
            "flex_flow": null,
            "grid_area": null,
            "grid_auto_columns": null,
            "grid_auto_flow": null,
            "grid_auto_rows": null,
            "grid_column": null,
            "grid_gap": null,
            "grid_row": null,
            "grid_template_areas": null,
            "grid_template_columns": null,
            "grid_template_rows": null,
            "height": null,
            "justify_content": null,
            "justify_items": null,
            "left": null,
            "margin": null,
            "max_height": null,
            "max_width": null,
            "min_height": null,
            "min_width": null,
            "object_fit": null,
            "object_position": null,
            "order": null,
            "overflow": null,
            "overflow_x": null,
            "overflow_y": null,
            "padding": null,
            "right": null,
            "top": null,
            "visibility": null,
            "width": null
          }
        },
        "ceaf722a55ab4f70af08fa1533e90b67": {
          "model_module": "@jupyter-widgets/base",
          "model_name": "LayoutModel",
          "model_module_version": "1.2.0",
          "state": {
            "_model_module": "@jupyter-widgets/base",
            "_model_module_version": "1.2.0",
            "_model_name": "LayoutModel",
            "_view_count": null,
            "_view_module": "@jupyter-widgets/base",
            "_view_module_version": "1.2.0",
            "_view_name": "LayoutView",
            "align_content": null,
            "align_items": null,
            "align_self": null,
            "border": null,
            "bottom": null,
            "display": null,
            "flex": null,
            "flex_flow": null,
            "grid_area": null,
            "grid_auto_columns": null,
            "grid_auto_flow": null,
            "grid_auto_rows": null,
            "grid_column": null,
            "grid_gap": null,
            "grid_row": null,
            "grid_template_areas": null,
            "grid_template_columns": null,
            "grid_template_rows": null,
            "height": null,
            "justify_content": null,
            "justify_items": null,
            "left": null,
            "margin": null,
            "max_height": null,
            "max_width": null,
            "min_height": null,
            "min_width": null,
            "object_fit": null,
            "object_position": null,
            "order": null,
            "overflow": null,
            "overflow_x": null,
            "overflow_y": null,
            "padding": null,
            "right": null,
            "top": null,
            "visibility": null,
            "width": null
          }
        },
        "9af2369a34844e8f89557eed2bbba8c8": {
          "model_module": "@jupyter-widgets/controls",
          "model_name": "DescriptionStyleModel",
          "model_module_version": "1.5.0",
          "state": {
            "_model_module": "@jupyter-widgets/controls",
            "_model_module_version": "1.5.0",
            "_model_name": "DescriptionStyleModel",
            "_view_count": null,
            "_view_module": "@jupyter-widgets/base",
            "_view_module_version": "1.2.0",
            "_view_name": "StyleView",
            "description_width": ""
          }
        },
        "317ebe3a5f174f8186af8ae7baecf4ee": {
          "model_module": "@jupyter-widgets/base",
          "model_name": "LayoutModel",
          "model_module_version": "1.2.0",
          "state": {
            "_model_module": "@jupyter-widgets/base",
            "_model_module_version": "1.2.0",
            "_model_name": "LayoutModel",
            "_view_count": null,
            "_view_module": "@jupyter-widgets/base",
            "_view_module_version": "1.2.0",
            "_view_name": "LayoutView",
            "align_content": null,
            "align_items": null,
            "align_self": null,
            "border": null,
            "bottom": null,
            "display": null,
            "flex": null,
            "flex_flow": null,
            "grid_area": null,
            "grid_auto_columns": null,
            "grid_auto_flow": null,
            "grid_auto_rows": null,
            "grid_column": null,
            "grid_gap": null,
            "grid_row": null,
            "grid_template_areas": null,
            "grid_template_columns": null,
            "grid_template_rows": null,
            "height": null,
            "justify_content": null,
            "justify_items": null,
            "left": null,
            "margin": null,
            "max_height": null,
            "max_width": null,
            "min_height": null,
            "min_width": null,
            "object_fit": null,
            "object_position": null,
            "order": null,
            "overflow": null,
            "overflow_x": null,
            "overflow_y": null,
            "padding": null,
            "right": null,
            "top": null,
            "visibility": null,
            "width": null
          }
        },
        "f78796059a2942bdb2b6ec8c521812a4": {
          "model_module": "@jupyter-widgets/controls",
          "model_name": "ProgressStyleModel",
          "model_module_version": "1.5.0",
          "state": {
            "_model_module": "@jupyter-widgets/controls",
            "_model_module_version": "1.5.0",
            "_model_name": "ProgressStyleModel",
            "_view_count": null,
            "_view_module": "@jupyter-widgets/base",
            "_view_module_version": "1.2.0",
            "_view_name": "StyleView",
            "bar_color": null,
            "description_width": ""
          }
        },
        "d6f63c406eb44a5984ba9adcacb93b37": {
          "model_module": "@jupyter-widgets/base",
          "model_name": "LayoutModel",
          "model_module_version": "1.2.0",
          "state": {
            "_model_module": "@jupyter-widgets/base",
            "_model_module_version": "1.2.0",
            "_model_name": "LayoutModel",
            "_view_count": null,
            "_view_module": "@jupyter-widgets/base",
            "_view_module_version": "1.2.0",
            "_view_name": "LayoutView",
            "align_content": null,
            "align_items": null,
            "align_self": null,
            "border": null,
            "bottom": null,
            "display": null,
            "flex": null,
            "flex_flow": null,
            "grid_area": null,
            "grid_auto_columns": null,
            "grid_auto_flow": null,
            "grid_auto_rows": null,
            "grid_column": null,
            "grid_gap": null,
            "grid_row": null,
            "grid_template_areas": null,
            "grid_template_columns": null,
            "grid_template_rows": null,
            "height": null,
            "justify_content": null,
            "justify_items": null,
            "left": null,
            "margin": null,
            "max_height": null,
            "max_width": null,
            "min_height": null,
            "min_width": null,
            "object_fit": null,
            "object_position": null,
            "order": null,
            "overflow": null,
            "overflow_x": null,
            "overflow_y": null,
            "padding": null,
            "right": null,
            "top": null,
            "visibility": null,
            "width": null
          }
        },
        "09dae30c9f324e8a8708ec101a425781": {
          "model_module": "@jupyter-widgets/controls",
          "model_name": "DescriptionStyleModel",
          "model_module_version": "1.5.0",
          "state": {
            "_model_module": "@jupyter-widgets/controls",
            "_model_module_version": "1.5.0",
            "_model_name": "DescriptionStyleModel",
            "_view_count": null,
            "_view_module": "@jupyter-widgets/base",
            "_view_module_version": "1.2.0",
            "_view_name": "StyleView",
            "description_width": ""
          }
        },
        "dd1698e97feb47cbb2bfa06e7b30d448": {
          "model_module": "@jupyter-widgets/controls",
          "model_name": "HBoxModel",
          "model_module_version": "1.5.0",
          "state": {
            "_dom_classes": [],
            "_model_module": "@jupyter-widgets/controls",
            "_model_module_version": "1.5.0",
            "_model_name": "HBoxModel",
            "_view_count": null,
            "_view_module": "@jupyter-widgets/controls",
            "_view_module_version": "1.5.0",
            "_view_name": "HBoxView",
            "box_style": "",
            "children": [
              "IPY_MODEL_2c04169b92b04bf1b623223dc1276c79",
              "IPY_MODEL_b7f2d08c06b541f2808a1adac05267f5",
              "IPY_MODEL_0587a1aad3474d2cb08ba49e5f0309a7"
            ],
            "layout": "IPY_MODEL_dffa73615fae48c0ab79317a98e94cf0"
          }
        },
        "2c04169b92b04bf1b623223dc1276c79": {
          "model_module": "@jupyter-widgets/controls",
          "model_name": "HTMLModel",
          "model_module_version": "1.5.0",
          "state": {
            "_dom_classes": [],
            "_model_module": "@jupyter-widgets/controls",
            "_model_module_version": "1.5.0",
            "_model_name": "HTMLModel",
            "_view_count": null,
            "_view_module": "@jupyter-widgets/controls",
            "_view_module_version": "1.5.0",
            "_view_name": "HTMLView",
            "description": "",
            "description_tooltip": null,
            "layout": "IPY_MODEL_f8cd92ce85a54ce7a57662bc96c170ab",
            "placeholder": "​",
            "style": "IPY_MODEL_3e122fd0cfe44522bcc1970a9918d510",
            "value": "model.safetensors: 100%"
          }
        },
        "b7f2d08c06b541f2808a1adac05267f5": {
          "model_module": "@jupyter-widgets/controls",
          "model_name": "FloatProgressModel",
          "model_module_version": "1.5.0",
          "state": {
            "_dom_classes": [],
            "_model_module": "@jupyter-widgets/controls",
            "_model_module_version": "1.5.0",
            "_model_name": "FloatProgressModel",
            "_view_count": null,
            "_view_module": "@jupyter-widgets/controls",
            "_view_module_version": "1.5.0",
            "_view_name": "ProgressView",
            "bar_style": "success",
            "description": "",
            "description_tooltip": null,
            "layout": "IPY_MODEL_d2c077128566493f9eb4eb42f816ecd7",
            "max": 440449768,
            "min": 0,
            "orientation": "horizontal",
            "style": "IPY_MODEL_b259c38f17794ce797dab28b21a7816f",
            "value": 440449768
          }
        },
        "0587a1aad3474d2cb08ba49e5f0309a7": {
          "model_module": "@jupyter-widgets/controls",
          "model_name": "HTMLModel",
          "model_module_version": "1.5.0",
          "state": {
            "_dom_classes": [],
            "_model_module": "@jupyter-widgets/controls",
            "_model_module_version": "1.5.0",
            "_model_name": "HTMLModel",
            "_view_count": null,
            "_view_module": "@jupyter-widgets/controls",
            "_view_module_version": "1.5.0",
            "_view_name": "HTMLView",
            "description": "",
            "description_tooltip": null,
            "layout": "IPY_MODEL_3ca588354f7e4441926b33b22220f4b7",
            "placeholder": "​",
            "style": "IPY_MODEL_a1d7be65cb964b85b5500f087a9646dc",
            "value": " 440M/440M [00:03&lt;00:00, 112MB/s]"
          }
        },
        "dffa73615fae48c0ab79317a98e94cf0": {
          "model_module": "@jupyter-widgets/base",
          "model_name": "LayoutModel",
          "model_module_version": "1.2.0",
          "state": {
            "_model_module": "@jupyter-widgets/base",
            "_model_module_version": "1.2.0",
            "_model_name": "LayoutModel",
            "_view_count": null,
            "_view_module": "@jupyter-widgets/base",
            "_view_module_version": "1.2.0",
            "_view_name": "LayoutView",
            "align_content": null,
            "align_items": null,
            "align_self": null,
            "border": null,
            "bottom": null,
            "display": null,
            "flex": null,
            "flex_flow": null,
            "grid_area": null,
            "grid_auto_columns": null,
            "grid_auto_flow": null,
            "grid_auto_rows": null,
            "grid_column": null,
            "grid_gap": null,
            "grid_row": null,
            "grid_template_areas": null,
            "grid_template_columns": null,
            "grid_template_rows": null,
            "height": null,
            "justify_content": null,
            "justify_items": null,
            "left": null,
            "margin": null,
            "max_height": null,
            "max_width": null,
            "min_height": null,
            "min_width": null,
            "object_fit": null,
            "object_position": null,
            "order": null,
            "overflow": null,
            "overflow_x": null,
            "overflow_y": null,
            "padding": null,
            "right": null,
            "top": null,
            "visibility": null,
            "width": null
          }
        },
        "f8cd92ce85a54ce7a57662bc96c170ab": {
          "model_module": "@jupyter-widgets/base",
          "model_name": "LayoutModel",
          "model_module_version": "1.2.0",
          "state": {
            "_model_module": "@jupyter-widgets/base",
            "_model_module_version": "1.2.0",
            "_model_name": "LayoutModel",
            "_view_count": null,
            "_view_module": "@jupyter-widgets/base",
            "_view_module_version": "1.2.0",
            "_view_name": "LayoutView",
            "align_content": null,
            "align_items": null,
            "align_self": null,
            "border": null,
            "bottom": null,
            "display": null,
            "flex": null,
            "flex_flow": null,
            "grid_area": null,
            "grid_auto_columns": null,
            "grid_auto_flow": null,
            "grid_auto_rows": null,
            "grid_column": null,
            "grid_gap": null,
            "grid_row": null,
            "grid_template_areas": null,
            "grid_template_columns": null,
            "grid_template_rows": null,
            "height": null,
            "justify_content": null,
            "justify_items": null,
            "left": null,
            "margin": null,
            "max_height": null,
            "max_width": null,
            "min_height": null,
            "min_width": null,
            "object_fit": null,
            "object_position": null,
            "order": null,
            "overflow": null,
            "overflow_x": null,
            "overflow_y": null,
            "padding": null,
            "right": null,
            "top": null,
            "visibility": null,
            "width": null
          }
        },
        "3e122fd0cfe44522bcc1970a9918d510": {
          "model_module": "@jupyter-widgets/controls",
          "model_name": "DescriptionStyleModel",
          "model_module_version": "1.5.0",
          "state": {
            "_model_module": "@jupyter-widgets/controls",
            "_model_module_version": "1.5.0",
            "_model_name": "DescriptionStyleModel",
            "_view_count": null,
            "_view_module": "@jupyter-widgets/base",
            "_view_module_version": "1.2.0",
            "_view_name": "StyleView",
            "description_width": ""
          }
        },
        "d2c077128566493f9eb4eb42f816ecd7": {
          "model_module": "@jupyter-widgets/base",
          "model_name": "LayoutModel",
          "model_module_version": "1.2.0",
          "state": {
            "_model_module": "@jupyter-widgets/base",
            "_model_module_version": "1.2.0",
            "_model_name": "LayoutModel",
            "_view_count": null,
            "_view_module": "@jupyter-widgets/base",
            "_view_module_version": "1.2.0",
            "_view_name": "LayoutView",
            "align_content": null,
            "align_items": null,
            "align_self": null,
            "border": null,
            "bottom": null,
            "display": null,
            "flex": null,
            "flex_flow": null,
            "grid_area": null,
            "grid_auto_columns": null,
            "grid_auto_flow": null,
            "grid_auto_rows": null,
            "grid_column": null,
            "grid_gap": null,
            "grid_row": null,
            "grid_template_areas": null,
            "grid_template_columns": null,
            "grid_template_rows": null,
            "height": null,
            "justify_content": null,
            "justify_items": null,
            "left": null,
            "margin": null,
            "max_height": null,
            "max_width": null,
            "min_height": null,
            "min_width": null,
            "object_fit": null,
            "object_position": null,
            "order": null,
            "overflow": null,
            "overflow_x": null,
            "overflow_y": null,
            "padding": null,
            "right": null,
            "top": null,
            "visibility": null,
            "width": null
          }
        },
        "b259c38f17794ce797dab28b21a7816f": {
          "model_module": "@jupyter-widgets/controls",
          "model_name": "ProgressStyleModel",
          "model_module_version": "1.5.0",
          "state": {
            "_model_module": "@jupyter-widgets/controls",
            "_model_module_version": "1.5.0",
            "_model_name": "ProgressStyleModel",
            "_view_count": null,
            "_view_module": "@jupyter-widgets/base",
            "_view_module_version": "1.2.0",
            "_view_name": "StyleView",
            "bar_color": null,
            "description_width": ""
          }
        },
        "3ca588354f7e4441926b33b22220f4b7": {
          "model_module": "@jupyter-widgets/base",
          "model_name": "LayoutModel",
          "model_module_version": "1.2.0",
          "state": {
            "_model_module": "@jupyter-widgets/base",
            "_model_module_version": "1.2.0",
            "_model_name": "LayoutModel",
            "_view_count": null,
            "_view_module": "@jupyter-widgets/base",
            "_view_module_version": "1.2.0",
            "_view_name": "LayoutView",
            "align_content": null,
            "align_items": null,
            "align_self": null,
            "border": null,
            "bottom": null,
            "display": null,
            "flex": null,
            "flex_flow": null,
            "grid_area": null,
            "grid_auto_columns": null,
            "grid_auto_flow": null,
            "grid_auto_rows": null,
            "grid_column": null,
            "grid_gap": null,
            "grid_row": null,
            "grid_template_areas": null,
            "grid_template_columns": null,
            "grid_template_rows": null,
            "height": null,
            "justify_content": null,
            "justify_items": null,
            "left": null,
            "margin": null,
            "max_height": null,
            "max_width": null,
            "min_height": null,
            "min_width": null,
            "object_fit": null,
            "object_position": null,
            "order": null,
            "overflow": null,
            "overflow_x": null,
            "overflow_y": null,
            "padding": null,
            "right": null,
            "top": null,
            "visibility": null,
            "width": null
          }
        },
        "a1d7be65cb964b85b5500f087a9646dc": {
          "model_module": "@jupyter-widgets/controls",
          "model_name": "DescriptionStyleModel",
          "model_module_version": "1.5.0",
          "state": {
            "_model_module": "@jupyter-widgets/controls",
            "_model_module_version": "1.5.0",
            "_model_name": "DescriptionStyleModel",
            "_view_count": null,
            "_view_module": "@jupyter-widgets/base",
            "_view_module_version": "1.2.0",
            "_view_name": "StyleView",
            "description_width": ""
          }
        }
      }
    }
  },
  "nbformat": 4,
  "nbformat_minor": 0
}